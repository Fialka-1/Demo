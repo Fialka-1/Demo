{
 "cells": [
  {
   "cell_type": "code",
   "execution_count": 1,
   "metadata": {},
   "outputs": [],
   "source": [
    "from charm.toolbox.pairinggroup import PairingGroup, ZR, G1, G2, pair, pairing, extract_key\n",
    "from tag import Setup, Entity\n",
    "import pandas as pd\n",
    "import time\n",
    "import csv"
   ]
  },
  {
   "cell_type": "code",
   "execution_count": 2,
   "metadata": {},
   "outputs": [],
   "source": [
    "times = 1000\n",
    "setup_time = []\n",
    "identify = ['Average Time']\n",
    "identify.extend(['#' + str(x) for x in range(1, times + 1)])"
   ]
  },
  {
   "cell_type": "markdown",
   "metadata": {},
   "source": [
    "## Setup Test"
   ]
  },
  {
   "cell_type": "code",
   "execution_count": 3,
   "metadata": {},
   "outputs": [],
   "source": [
    "def setup_test(L, round, time_recoder=[], flag=1):\n",
    "    total = 0\n",
    "    for x in range(round):\n",
    "        start = time.time()\n",
    "        Setup(L)\n",
    "        end = time.time()\n",
    "        runtime = end - start\n",
    "        time_recoder.append(runtime)\n",
    "        msg = '{func} takes {time} second to complete '\n",
    "        total = total + runtime\n",
    "        if flag: print(msg.format(func = '[System Setup]', time = runtime))\n",
    "    if flag: print(\"The average time is {time} second for {rounds} tests\".format(time = total/round, rounds = round))"
   ]
  },
  {
   "cell_type": "code",
   "execution_count": 4,
   "metadata": {},
   "outputs": [
    {
     "name": "stdout",
     "output_type": "stream",
     "text": [
      "[System Setup] takes 0.004950523376464844 second to complete \n",
      "[System Setup] takes 0.0038442611694335938 second to complete \n",
      "[System Setup] takes 0.0034911632537841797 second to complete \n",
      "[System Setup] takes 0.0027091503143310547 second to complete \n",
      "[System Setup] takes 0.002488374710083008 second to complete \n",
      "[System Setup] takes 0.002306699752807617 second to complete \n",
      "[System Setup] takes 0.0020914077758789062 second to complete \n",
      "[System Setup] takes 0.0018541812896728516 second to complete \n",
      "[System Setup] takes 0.001968860626220703 second to complete \n",
      "[System Setup] takes 0.0018334388732910156 second to complete \n",
      "The average time is 0.002753806114196777 second for 10 tests\n"
     ]
    }
   ],
   "source": [
    "setup_test('SS1024', 10)"
   ]
  },
  {
   "cell_type": "markdown",
   "metadata": {},
   "source": [
    "## Key Generation"
   ]
  },
  {
   "cell_type": "code",
   "execution_count": 5,
   "metadata": {},
   "outputs": [],
   "source": [
    "def keygen_test(L, round, time_recoder = [], flag = 1):\n",
    "    total = 0\n",
    "    for x in range(round):\n",
    "        runSetup = Setup(L)\n",
    "        start = time.time()\n",
    "        runSetup.keyGen()\n",
    "        end = time.time()\n",
    "        runtime = end - start\n",
    "        time_recoder.append(runtime)\n",
    "        msg = '{func} takes {time} second to complete '\n",
    "        total = total + runtime\n",
    "        if flag: print(msg.format(func = '[Key Generation]', time = runtime))\n",
    "    if flag: print(\"The average time is {time} second for {rounds} tests\".format(time = total/round, rounds = round))    "
   ]
  },
  {
   "cell_type": "code",
   "execution_count": 6,
   "metadata": {},
   "outputs": [
    {
     "name": "stdout",
     "output_type": "stream",
     "text": [
      "[Key Generation] takes 0.05587482452392578 second to complete \n",
      "[Key Generation] takes 0.05299854278564453 second to complete \n",
      "[Key Generation] takes 0.05141711235046387 second to complete \n",
      "[Key Generation] takes 0.05073666572570801 second to complete \n",
      "[Key Generation] takes 0.050316810607910156 second to complete \n",
      "[Key Generation] takes 0.05082821846008301 second to complete \n",
      "[Key Generation] takes 0.05038762092590332 second to complete \n",
      "[Key Generation] takes 0.05050063133239746 second to complete \n",
      "[Key Generation] takes 0.05026412010192871 second to complete \n",
      "[Key Generation] takes 0.05078911781311035 second to complete \n",
      "The average time is 0.05141136646270752 second for 10 tests\n"
     ]
    }
   ],
   "source": [
    "keygen_test('SS1024', 10)"
   ]
  },
  {
   "cell_type": "markdown",
   "metadata": {},
   "source": [
    "## Encryption"
   ]
  },
  {
   "cell_type": "code",
   "execution_count": 7,
   "metadata": {},
   "outputs": [],
   "source": [
    "def enc_test(L, round, time_recoder = [], flag = 1):\n",
    "    total = 0\n",
    "    for x in range(round):\n",
    "        runSetup = Setup(L)\n",
    "        runSetup.keyGen()\n",
    "        pk = runSetup.get_pk()\n",
    "        sk = runSetup.get_sk()\n",
    "        \n",
    "        start = time.time()        \n",
    "        t = pk.group.random(ZR)        \n",
    "        m = pk.group.random(G1)\n",
    "        sender = Entity()\n",
    "        sender.enc(pk, t, m)\n",
    "        end = time.time()\n",
    "        runtime = end - start\n",
    "        time_recoder.append(runtime)\n",
    "        msg = '{func} takes {time} second to complete '\n",
    "        total = total + runtime\n",
    "        if flag: print(msg.format(func = '[Encryption]', time = runtime))\n",
    "    if flag: print(\"The average time is {time} second for {rounds} tests\".format(time = total/round, rounds = round)) "
   ]
  },
  {
   "cell_type": "code",
   "execution_count": 8,
   "metadata": {},
   "outputs": [
    {
     "name": "stdout",
     "output_type": "stream",
     "text": [
      "[Encryption] takes 0.1047368049621582 second to complete \n",
      "[Encryption] takes 0.10310721397399902 second to complete \n",
      "[Encryption] takes 0.10451531410217285 second to complete \n",
      "[Encryption] takes 0.10573744773864746 second to complete \n",
      "[Encryption] takes 0.10634732246398926 second to complete \n",
      "[Encryption] takes 0.10509181022644043 second to complete \n",
      "[Encryption] takes 0.10563063621520996 second to complete \n",
      "[Encryption] takes 0.10527944564819336 second to complete \n",
      "[Encryption] takes 0.10518503189086914 second to complete \n",
      "[Encryption] takes 0.10564470291137695 second to complete \n",
      "The average time is 0.10512757301330566 second for 10 tests\n"
     ]
    }
   ],
   "source": [
    "enc_test('SS1024', 10)"
   ]
  },
  {
   "cell_type": "markdown",
   "metadata": {},
   "source": [
    "## Decryption"
   ]
  },
  {
   "cell_type": "code",
   "execution_count": 9,
   "metadata": {},
   "outputs": [],
   "source": [
    "def dec_test(L, round, time_recoder = [], flag = 1):\n",
    "    total = 0\n",
    "    for x in range(round):\n",
    "        runSetup = Setup(L)\n",
    "        runSetup.keyGen()\n",
    "        pk = runSetup.get_pk()\n",
    "        sk = runSetup.get_sk()\n",
    "        t = pk.group.random(ZR)        \n",
    "        m = pk.group.random(G1)\n",
    "        sender = Entity()\n",
    "        c = sender.enc(pk, t, m)        \n",
    "        start = time.time()\n",
    "        receiver = Entity()\n",
    "        receiver.dec(sk, t, c, pk.group)\n",
    "        end = time.time()\n",
    "        runtime = end - start\n",
    "        time_recoder.append(runtime)\n",
    "        msg = '{func} takes {time} second to complete '\n",
    "        total = total + runtime\n",
    "        if flag: print(msg.format(func = '[Decryption]', time = runtime))\n",
    "    if flag: print(\"The average time is {time} second for {rounds} tests\".format(time = total/round, rounds = round)) "
   ]
  },
  {
   "cell_type": "code",
   "execution_count": 10,
   "metadata": {},
   "outputs": [
    {
     "name": "stdout",
     "output_type": "stream",
     "text": [
      "[Decryption] takes 0.06459736824035645 second to complete \n",
      "[Decryption] takes 0.06458854675292969 second to complete \n",
      "[Decryption] takes 0.06522917747497559 second to complete \n",
      "[Decryption] takes 0.06459879875183105 second to complete \n",
      "[Decryption] takes 0.06430888175964355 second to complete \n",
      "[Decryption] takes 0.06455850601196289 second to complete \n",
      "[Decryption] takes 0.06743812561035156 second to complete \n",
      "[Decryption] takes 0.0690300464630127 second to complete \n",
      "[Decryption] takes 0.06970548629760742 second to complete \n",
      "[Decryption] takes 0.06591534614562988 second to complete \n",
      "The average time is 0.06599702835083007 second for 10 tests\n"
     ]
    }
   ],
   "source": [
    "dec_test('SS1024', 10)"
   ]
  },
  {
   "cell_type": "markdown",
   "metadata": {},
   "source": [
    "---"
   ]
  },
  {
   "cell_type": "code",
   "execution_count": 11,
   "metadata": {},
   "outputs": [],
   "source": [
    "times = 1000\n",
    "kappa = 'SS1024'\n",
    "setup_time = []\n",
    "keygen_time = []\n",
    "enc_time = []\n",
    "dec_time = []\n",
    "identify = ['Average Time']\n",
    "identify.extend(['#' + str(x) for x in range(1, times + 1)])\n",
    "\n",
    "setup_test(kappa, times, setup_time, 0)\n",
    "keygen_test(kappa, times, keygen_time, 0)\n",
    "enc_test(kappa, times, enc_time, 0)\n",
    "dec_test(kappa, times, dec_time, 0)\n",
    "\n",
    "avg1 = sum(setup_time) / times\n",
    "avg2 = sum(keygen_time) / times\n",
    "avg3 = sum(enc_time) / times\n",
    "avg4 = sum(dec_time) / times\n",
    "\n",
    "setup_time.insert(0, avg1)\n",
    "keygen_time.insert(0, avg2)\n",
    "enc_time.insert(0, avg3)\n",
    "dec_time.insert(0, avg4)\n",
    "\n",
    "dataframe = pd.DataFrame({'Rounds [TEST DATE: ' + time.strftime('%Y-%m-%d %H:%M',time.localtime(time.time())) + ']':identify, 'Setup Time':setup_time, 'Keygen Time': keygen_time, 'Encryption Time': enc_time, 'Decryption Time': dec_time})\n",
    "dataframe.to_csv('./SS_1024_Results.csv', index=False)"
   ]
  },
  {
   "cell_type": "code",
   "execution_count": null,
   "metadata": {},
   "outputs": [],
   "source": []
  }
 ],
 "metadata": {
  "kernelspec": {
   "display_name": "Python 3",
   "language": "python",
   "name": "python3"
  },
  "language_info": {
   "codemirror_mode": {
    "name": "ipython",
    "version": 3
   },
   "file_extension": ".py",
   "mimetype": "text/x-python",
   "name": "python",
   "nbconvert_exporter": "python",
   "pygments_lexer": "ipython3",
   "version": "3.6.7"
  }
 },
 "nbformat": 4,
 "nbformat_minor": 2
}
